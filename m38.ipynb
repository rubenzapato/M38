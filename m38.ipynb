{
 "cells": [
  {
   "cell_type": "code",
   "execution_count": 3,
   "metadata": {},
   "outputs": [
    {
     "name": "stdout",
     "output_type": "stream",
     "text": [
      "-----Hola, somos un tienda de tacos en línea-----\n",
      "Favor de elegir que va a querer\n",
      "[['pastor', 'suadero', 'guisado', 'campechano'], ['con queso', 'sin queso'], ['horchata', 'jamaica', 'mango']]\n"
     ]
    }
   ],
   "source": [
    "print(\"-----Hola, somos un tienda de tacos en línea-----\")\n",
    "print(\"Favor de elegir que va a querer\")\n",
    "menu=[[\"pastor\", \"suadero\", \"guisado\", \"campechano\"],[\"con queso\", \"sin queso\"],[\"horchata\", \"jamaica\", \"mango\"]]\n",
    "print(menu)"
   ]
  },
  {
   "cell_type": "code",
   "execution_count": null,
   "metadata": {},
   "outputs": [],
   "source": []
  },
  {
   "cell_type": "code",
   "execution_count": null,
   "metadata": {},
   "outputs": [],
   "source": []
  },
  {
   "cell_type": "code",
   "execution_count": 11,
   "metadata": {},
   "outputs": [
    {
     "name": "stdout",
     "output_type": "stream",
     "text": [
      "Su pedido es:   \n",
      "3 al pastor, total:30\n",
      "Extra de queso: 30\n",
      "1 aguas de sabor, total: 10\n",
      "Total del pedido: 70\n"
     ]
    }
   ],
   "source": [
    "tacos=input(\"Ingrese su orden solamente de tacos\").split()\n",
    "queso=input(\"¿Con queso?\")\n",
    "aguas=input(\"Agua: \").split()\n",
    "pastor=0\n",
    "suadero=0\n",
    "guisado=0\n",
    "campechano=0\n",
    "\n",
    "costo_pastor= 10\n",
    "costo_suadero= 25\n",
    "costo_guisado= 30\n",
    "costo_campechano= 40\n",
    "costo_queso=10\n",
    "\n",
    "total_de_tacos=0\n",
    "\n",
    "for taco in tacos:\n",
    "    if taco == \"pastor\": \n",
    "        pastor+=1\n",
    "        total_de_tacos+=1\n",
    "    elif taco == \"suadero\": \n",
    "        suadero+=1\n",
    "        total_de_tacos+=1\n",
    "    elif taco == \"guisado\": \n",
    "        guisado+=1\n",
    "        total_de_tacos+=1\n",
    "    elif taco == \"campechano\": \n",
    "        campechano +=1\n",
    "        total_de_tacos+=1\n",
    "\n",
    "costo_de_tacos_queso=0\n",
    "\n",
    "if queso == \"con queso\": \n",
    "    costo_de_tacos_queso=total_de_tacos*costo_queso\n",
    "\n",
    "total_taco=pastor*costo_pastor+suadero*costo_suadero+guisado*costo_guisado+campechano*costo_campechano+costo_de_tacos_queso\n",
    "\n",
    "#costo de aguas\n",
    "costo_aguas=10\n",
    "\n",
    "total_agua=len(aguas)*costo_aguas\n",
    "total_de_pedido=total_taco+total_agua\n",
    "\n",
    "print(\"Su pedido es:   \")\n",
    "if pastor != 0: \n",
    "    print(str(pastor)+\" al pastor, total:\"+ str(costo_pastor*pastor))\n",
    "if suadero != 0: \n",
    "    print(str(suadero)+\" de suadero, total:\"+ str(costo_suadero*suadero))\n",
    "if guisado != 0: \n",
    "    print(str(guisado)+\" de guisado, total:\"+ str(costo_guisado*guisado))\n",
    "if campechano != 0: \n",
    "    print(str(campechano)+\" de suadero, total:\"+ str(costo_campechano*campechano))\n",
    "if queso == \"con queso\": \n",
    "    print(\"Extra de queso: \"+str(costo_de_tacos_queso))\n",
    "if len(aguas) >=1 : \n",
    "    print(str(len(aguas))+\" aguas de sabor, total: \"+ str(total_agua) )\n",
    "\n",
    "print(\"Total del pedido: \"+str(total_de_pedido))\n",
    "\n"
   ]
  },
  {
   "cell_type": "markdown",
   "metadata": {},
   "source": []
  },
  {
   "cell_type": "code",
   "execution_count": null,
   "metadata": {},
   "outputs": [],
   "source": []
  }
 ],
 "metadata": {
  "kernelspec": {
   "display_name": "Python 3",
   "language": "python",
   "name": "python3"
  },
  "language_info": {
   "codemirror_mode": {
    "name": "ipython",
    "version": 3
   },
   "file_extension": ".py",
   "mimetype": "text/x-python",
   "name": "python",
   "nbconvert_exporter": "python",
   "pygments_lexer": "ipython3",
   "version": "3.12.0"
  }
 },
 "nbformat": 4,
 "nbformat_minor": 2
}
